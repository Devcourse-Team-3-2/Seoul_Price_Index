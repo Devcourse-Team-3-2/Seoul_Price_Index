{
 "cells": [
  {
   "cell_type": "code",
   "execution_count": null,
   "metadata": {},
   "outputs": [],
   "source": [
    "!pip install ipython-sql==0.4.1\n",
    "!pip install SQLAlchemy==1.4.49\n",
    "!pip install psycopg2\n"
   ]
  },
  {
   "cell_type": "code",
   "execution_count": 2,
   "metadata": {},
   "outputs": [],
   "source": [
    "%load_ext sql"
   ]
  },
  {
   "cell_type": "code",
   "execution_count": 3,
   "metadata": {},
   "outputs": [],
   "source": [
    "%sql postgresql://(ID):(PW)@(Redshift Serverless end point)"
   ]
  },
  {
   "cell_type": "code",
   "execution_count": null,
   "metadata": {},
   "outputs": [],
   "source": [
    "%%sql\n",
    "\n",
    "DROP TABLE raw_data.price_index;"
   ]
  },
  {
   "cell_type": "code",
   "execution_count": null,
   "metadata": {},
   "outputs": [],
   "source": [
    "%%sql\n",
    "-- 물가 지수를 담을 테이블 생성\n",
    "CREATE TABLE raw_data.price_index (\n",
    "    \"품목 명\" VARCHAR(50),\n",
    "    \"2023.04\" FLOAT,\n",
    "    \"2023.05\" FLOAT,\n",
    "    \"2023.06\" FLOAT,\n",
    "    \"2023.07\" FLOAT,\n",
    "    \"2023.08\" FLOAT,\n",
    "    \"2023.09\" FLOAT\n",
    ");\n"
   ]
  },
  {
   "cell_type": "code",
   "execution_count": null,
   "metadata": {},
   "outputs": [],
   "source": [
    "%%sql\n",
    "-- 카피\n",
    "COPY raw_data.price_index\n",
    "FROM '(csv 파일 주소)'\n",
    "credentials '(IAM arn)'\n",
    "delimiter ',' dateformat 'auto' timeformat 'auto' IGNOREHEADER 1 removequotes;"
   ]
  },
  {
   "cell_type": "code",
   "execution_count": null,
   "metadata": {},
   "outputs": [],
   "source": [
    "%%sql\n",
    "\n",
    "-- 저장 확인\n",
    "select * from raw_data.price_index limit 10;"
   ]
  },
  {
   "cell_type": "code",
   "execution_count": null,
   "metadata": {},
   "outputs": [],
   "source": [
    "%%sql\n",
    "\n",
    "DROP TABLE analytics.seoul_price_index;"
   ]
  },
  {
   "cell_type": "code",
   "execution_count": null,
   "metadata": {},
   "outputs": [],
   "source": [
    "%%sql\n",
    "-- 물가 지수를 담을 테이블 생성\n",
    "CREATE TABLE analytics.seoul_price_index as(\n",
    "    SELECT\n",
    "        \"품목 명\" AS \"품목 명\",\n",
    "        '2023.04' AS \"월 별\",\n",
    "        \"2023.04\" AS \"가격\"\n",
    "    FROM\n",
    "        raw_data.price_index\n",
    "    UNION ALL\n",
    "    SELECT\n",
    "        \"품목 명\",\n",
    "        '2023.05',\n",
    "        \"2023.05\"\n",
    "    FROM\n",
    "        raw_data.price_index\n",
    "    UNION ALL\n",
    "    SELECT\n",
    "        \"품목 명\",\n",
    "        '2023.06',\n",
    "        \"2023.06\"\n",
    "    FROM\n",
    "        raw_data.price_index\n",
    "    UNION ALL\n",
    "    SELECT\n",
    "        \"품목 명\",\n",
    "        '2023.07',\n",
    "        \"2023.07\"\n",
    "    FROM\n",
    "        raw_data.price_index\n",
    "    UNION ALL\n",
    "    SELECT\n",
    "        \"품목 명\",\n",
    "        '2023.08',\n",
    "        \"2023.08\"\n",
    "    FROM\n",
    "        raw_data.price_index\n",
    "    UNION ALL\n",
    "    SELECT\n",
    "        \"품목 명\",\n",
    "        '2023.09',\n",
    "        \"2023.09\"\n",
    "    FROM\n",
    "        raw_data.price_index\n",
    ");"
   ]
  },
  {
   "cell_type": "code",
   "execution_count": null,
   "metadata": {},
   "outputs": [],
   "source": [
    "%%sql\n",
    "\n",
    "-- 저장 확인\n",
    "select * from analytics.seoul_price_index limit 10;"
   ]
  }
 ],
 "metadata": {
  "kernelspec": {
   "display_name": "Python 3",
   "language": "python",
   "name": "python3"
  },
  "language_info": {
   "codemirror_mode": {
    "name": "ipython",
    "version": 3
   },
   "file_extension": ".py",
   "mimetype": "text/x-python",
   "name": "python",
   "nbconvert_exporter": "python",
   "pygments_lexer": "ipython3",
   "version": "3.10.11"
  }
 },
 "nbformat": 4,
 "nbformat_minor": 2
}
